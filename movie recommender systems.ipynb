{
 "cells": [
  {
   "cell_type": "code",
   "execution_count": 1,
   "metadata": {},
   "outputs": [
    {
     "name": "stderr",
     "output_type": "stream",
     "text": [
      "/Users/Joonil/anaconda/envs/pytorch/lib/python3.6/site-packages/h5py/__init__.py:36: FutureWarning: Conversion of the second argument of issubdtype from `float` to `np.floating` is deprecated. In future, it will be treated as `np.float64 == np.dtype(float).type`.\n",
      "  from ._conv import register_converters as _register_converters\n",
      "Using TensorFlow backend.\n"
     ]
    }
   ],
   "source": [
    "import pandas as pd\n",
    "import numpy as np\n",
    "import matplotlib.pyplot as plt\n",
    "from sklearn.model_selection import train_test_split\n",
    "from sklearn.metrics.pairwise import cosine_similarity\n",
    "from sklearn.metrics import mean_squared_error, mean_absolute_error\n",
    "import keras\n",
    "import keras.backend as K\n",
    "from keras.models import Sequential\n",
    "from keras import optimizers\n",
    "from keras.utils.vis_utils import model_to_dot\n",
    "from keras import regularizers, optimizers, Model\n",
    "from keras.callbacks import EarlyStopping, ModelCheckpoint, LearningRateScheduler\n",
    "from keras.layers import Dense, Embedding, Flatten, Input, dot, \\\n",
    "        Concatenate, Dropout, merge, LSTM, RepeatVector, Activation, BatchNormalization\n",
    "from keras.constraints import non_neg\n",
    "from IPython.display import SVG\n",
    "%matplotlib inline"
   ]
  },
  {
   "cell_type": "markdown",
   "metadata": {},
   "source": [
    "### Read dataset"
   ]
  },
  {
   "cell_type": "code",
   "execution_count": 2,
   "metadata": {
    "collapsed": true
   },
   "outputs": [],
   "source": [
    "# Define attributes of u.item\n",
    "FieldsMovies = ['movieID', 'movieTitle', 'releaseDate', 'videoReleaseDate', 'IMDbURL', 'unknown', 'action', 'adventure',\n",
    "      'animation', 'childrens', 'comedy', 'crime', 'documentary', 'drama', 'fantasy', 'filmNoir', 'horror',\n",
    "      'musical', 'mystery', 'romance','sciFi', 'thriller', 'war', 'western']\n",
    "\n",
    "# Read the data into dataframes\n",
    "DataDf = pd.read_csv(\"ml-100k/u.data\", sep='\\t', names=[\"user_id\", \"item_id\", \"rating\", \"timestamp\"])\n",
    "Itemdata = pd.read_csv(\"ml-100k/u.item\", sep='|', encoding = \"ISO-8859-1\", names=FieldsMovies)\n",
    "\n",
    "# Setups\n",
    "FindID = Itemdata.movieTitle.to_dict()  # key: movieID-1, value:movie title\n",
    "NumItems = len(DataDf.item_id.unique())\n",
    "NumUsers = len(DataDf.user_id.unique())"
   ]
  },
  {
   "cell_type": "code",
   "execution_count": 3,
   "metadata": {},
   "outputs": [
    {
     "data": {
      "text/html": [
       "<div>\n",
       "<style>\n",
       "    .dataframe thead tr:only-child th {\n",
       "        text-align: right;\n",
       "    }\n",
       "\n",
       "    .dataframe thead th {\n",
       "        text-align: left;\n",
       "    }\n",
       "\n",
       "    .dataframe tbody tr th {\n",
       "        vertical-align: top;\n",
       "    }\n",
       "</style>\n",
       "<table border=\"1\" class=\"dataframe\">\n",
       "  <thead>\n",
       "    <tr style=\"text-align: right;\">\n",
       "      <th></th>\n",
       "      <th>user_id</th>\n",
       "      <th>item_id</th>\n",
       "      <th>rating</th>\n",
       "    </tr>\n",
       "  </thead>\n",
       "  <tbody>\n",
       "    <tr>\n",
       "      <th>0</th>\n",
       "      <td>196</td>\n",
       "      <td>242</td>\n",
       "      <td>3</td>\n",
       "    </tr>\n",
       "    <tr>\n",
       "      <th>1</th>\n",
       "      <td>186</td>\n",
       "      <td>302</td>\n",
       "      <td>3</td>\n",
       "    </tr>\n",
       "    <tr>\n",
       "      <th>2</th>\n",
       "      <td>22</td>\n",
       "      <td>377</td>\n",
       "      <td>1</td>\n",
       "    </tr>\n",
       "    <tr>\n",
       "      <th>3</th>\n",
       "      <td>244</td>\n",
       "      <td>51</td>\n",
       "      <td>2</td>\n",
       "    </tr>\n",
       "    <tr>\n",
       "      <th>4</th>\n",
       "      <td>166</td>\n",
       "      <td>346</td>\n",
       "      <td>1</td>\n",
       "    </tr>\n",
       "  </tbody>\n",
       "</table>\n",
       "</div>"
      ],
      "text/plain": [
       "   user_id  item_id  rating\n",
       "0      196      242       3\n",
       "1      186      302       3\n",
       "2       22      377       1\n",
       "3      244       51       2\n",
       "4      166      346       1"
      ]
     },
     "execution_count": 3,
     "metadata": {},
     "output_type": "execute_result"
    }
   ],
   "source": [
    "DataDf = DataDf.drop('timestamp', axis=1)\n",
    "DataDf.head()"
   ]
  },
  {
   "cell_type": "code",
   "execution_count": 4,
   "metadata": {},
   "outputs": [
    {
     "data": {
      "text/html": [
       "<div>\n",
       "<style>\n",
       "    .dataframe thead tr:only-child th {\n",
       "        text-align: right;\n",
       "    }\n",
       "\n",
       "    .dataframe thead th {\n",
       "        text-align: left;\n",
       "    }\n",
       "\n",
       "    .dataframe tbody tr th {\n",
       "        vertical-align: top;\n",
       "    }\n",
       "</style>\n",
       "<table border=\"1\" class=\"dataframe\">\n",
       "  <thead>\n",
       "    <tr style=\"text-align: right;\">\n",
       "      <th></th>\n",
       "      <th>user_id</th>\n",
       "      <th>item_id</th>\n",
       "      <th>rating</th>\n",
       "    </tr>\n",
       "  </thead>\n",
       "  <tbody>\n",
       "    <tr>\n",
       "      <th>count</th>\n",
       "      <td>100000.00000</td>\n",
       "      <td>100000.000000</td>\n",
       "      <td>100000.000000</td>\n",
       "    </tr>\n",
       "    <tr>\n",
       "      <th>mean</th>\n",
       "      <td>462.48475</td>\n",
       "      <td>425.530130</td>\n",
       "      <td>3.529860</td>\n",
       "    </tr>\n",
       "    <tr>\n",
       "      <th>std</th>\n",
       "      <td>266.61442</td>\n",
       "      <td>330.798356</td>\n",
       "      <td>1.125674</td>\n",
       "    </tr>\n",
       "    <tr>\n",
       "      <th>min</th>\n",
       "      <td>1.00000</td>\n",
       "      <td>1.000000</td>\n",
       "      <td>1.000000</td>\n",
       "    </tr>\n",
       "    <tr>\n",
       "      <th>25%</th>\n",
       "      <td>254.00000</td>\n",
       "      <td>175.000000</td>\n",
       "      <td>3.000000</td>\n",
       "    </tr>\n",
       "    <tr>\n",
       "      <th>50%</th>\n",
       "      <td>447.00000</td>\n",
       "      <td>322.000000</td>\n",
       "      <td>4.000000</td>\n",
       "    </tr>\n",
       "    <tr>\n",
       "      <th>75%</th>\n",
       "      <td>682.00000</td>\n",
       "      <td>631.000000</td>\n",
       "      <td>4.000000</td>\n",
       "    </tr>\n",
       "    <tr>\n",
       "      <th>max</th>\n",
       "      <td>943.00000</td>\n",
       "      <td>1682.000000</td>\n",
       "      <td>5.000000</td>\n",
       "    </tr>\n",
       "  </tbody>\n",
       "</table>\n",
       "</div>"
      ],
      "text/plain": [
       "            user_id        item_id         rating\n",
       "count  100000.00000  100000.000000  100000.000000\n",
       "mean      462.48475     425.530130       3.529860\n",
       "std       266.61442     330.798356       1.125674\n",
       "min         1.00000       1.000000       1.000000\n",
       "25%       254.00000     175.000000       3.000000\n",
       "50%       447.00000     322.000000       4.000000\n",
       "75%       682.00000     631.000000       4.000000\n",
       "max       943.00000    1682.000000       5.000000"
      ]
     },
     "execution_count": 4,
     "metadata": {},
     "output_type": "execute_result"
    }
   ],
   "source": [
    "DataDf.describe()"
   ]
  },
  {
   "cell_type": "markdown",
   "metadata": {},
   "source": [
    "Let's see how many unique users and items (movies) in the dataset."
   ]
  },
  {
   "cell_type": "code",
   "execution_count": 5,
   "metadata": {},
   "outputs": [
    {
     "name": "stdout",
     "output_type": "stream",
     "text": [
      "Number of Users: 943\n",
      "Number of Movies: 1682\n"
     ]
    }
   ],
   "source": [
    "print(\"Number of Users: {}\\nNumber of Movies: {}\".format(NumUsers, NumItems))"
   ]
  },
  {
   "cell_type": "markdown",
   "metadata": {},
   "source": [
    "### Train Test Split"
   ]
  },
  {
   "cell_type": "code",
   "execution_count": 6,
   "metadata": {
    "collapsed": true
   },
   "outputs": [],
   "source": [
    "train, test = train_test_split(DataDf, test_size=0.2)\n",
    "train = train.reset_index(drop=True)\n",
    "test = test.reset_index(drop=True)"
   ]
  },
  {
   "cell_type": "markdown",
   "metadata": {},
   "source": [
    "## Cosine Similarity\n",
    "A simple recommender system using item-item similarity or user-user similarity."
   ]
  },
  {
   "cell_type": "code",
   "execution_count": 7,
   "metadata": {
    "collapsed": true,
    "scrolled": true
   },
   "outputs": [],
   "source": [
    "watched = train.loc[train.user_id==1].item_id.as_matrix()"
   ]
  },
  {
   "cell_type": "code",
   "execution_count": 8,
   "metadata": {
    "collapsed": true
   },
   "outputs": [],
   "source": [
    "def buildItemUserMatrix(dataDf):\n",
    "    '''\n",
    "    Input\n",
    "    - datadf: A pandas dataframe of movielens dataset\n",
    "\n",
    "    Ouput\n",
    "    - matrix: A 2d numpy array of Item-User Matrix (numItems x numUsers)\n",
    "    '''\n",
    "    dataMatrix = np.zeros((NumItems, NumUsers), dtype=np.int8)\n",
    "\n",
    "    # Populate the matrix based on the dataset\n",
    "    for (index, userID, itemID, rating) in dataDf.itertuples():\n",
    "        dataMatrix[itemID-1, userID-1] = rating\n",
    "    return dataMatrix\n",
    "\n",
    "def getSimilarMovies(similarity, movieID, k=5):\n",
    "    '''\n",
    "    Recommend k-number of similar movie by cosine similarity metric\n",
    "    '''\n",
    "    movieVec = similarity[movieID-1]\n",
    "    movieVec = np.delete(movieVec, movieID-1)\n",
    "    sortedIdx = np.argsort(movieVec)[::-1]\n",
    "    print(\"Did you like '{}'?\\n\".format(FindID[movieID-1]))\n",
    "    print(\"What we recommend for you\")\n",
    "    for i in range(k):\n",
    "        movietitle = FindID[sortedIdx[i+1]+1]\n",
    "        print(\"{}: {}\".format(i+1, movietitle))\n",
    "\n",
    "def whichMovie(movieID):\n",
    "    return FindID[movieID-1]\n",
    "\n",
    "def predictRatings(trainDf, dataMatrix, similarity):\n",
    "    '''\n",
    "    Predict empty ratings by using item-item cosine similarity\n",
    "    '''\n",
    "#     dataMatrix = buildItemUserMatrix(trainDf)\n",
    "    predictionMatrix = np.zeros((NumItems, NumUsers))\n",
    "    \n",
    "    # loop over non-rated items\n",
    "    for u in range(NumUsers):\n",
    "        userVector = dataMatrix[:,u]\n",
    "        nonzeros = userVector.nonzero()\n",
    "        itemRatings = userVector[nonzeros]\n",
    "        zeros = np.argwhere(userVector == 0).flatten()\n",
    "\n",
    "        for i in zeros:\n",
    "            # Get the similarity score for each of the items that provided rating by this user\n",
    "            itemSims = similarity[i,:][nonzeros]\n",
    "\n",
    "            if itemSims.sum() == 0:\n",
    "                predictionMatrix[i,u] = userVector.mean()\n",
    "            else:\n",
    "                #Predict score based on item-item similarity\n",
    "                predictionMatrix[i,u] = (itemRatings * itemSims).sum() / itemSims.sum()\n",
    "    \n",
    "    return predictionMatrix\n",
    "\n",
    "def predictRatings2(trainDf, dataMatrix, similarity):\n",
    "    '''\n",
    "    Predict empty ratings by using user-user cosine similarity\n",
    "    '''\n",
    "#     dataMatrix = buildItemUserMatrix(trainDf)\n",
    "    predictionMatrix = np.zeros((NumItems, NumUsers))\n",
    "    \n",
    "    # loop over non-rated items\n",
    "    for i in range(NumItems):\n",
    "        itemVector = dataMatrix[i,:]\n",
    "        nonzeros = itemVector.nonzero()\n",
    "        userRatings = itemVector[nonzeros]\n",
    "        zeros = np.argwhere(itemVector == 0).flatten()\n",
    "\n",
    "        for u in zeros:\n",
    "            # Get the similarity score for each of the items that provided rating by this user\n",
    "            userSims = similarity[:,i][nonzeros]\n",
    "\n",
    "            if userSims.sum() == 0:\n",
    "                predictionMatrix[i,u] = itemVector.mean()\n",
    "                \n",
    "            else:\n",
    "                #Predict score based on item-item similarity\n",
    "                predictionMatrix[i,u] = (userRatings * userSims).sum() / userSims.sum()\n",
    "    \n",
    "    return predictionMatrix\n",
    "\n",
    "def recommendMovies(userID, trainDf, k=None, **options):\n",
    "    '''\n",
    "    Recommend movies for the user with userID\n",
    "    '''\n",
    "    # Read options args\n",
    "    model = options.pop('model', None)\n",
    "#     trainDf = options.pop('train_data', None)\n",
    "    similarity = options.pop('similarity', None)\n",
    "    predictionMatrix = options.pop('prediction_matrix', None)\n",
    "    \n",
    "    if options:\n",
    "        raise TypeError(\"Invalid parameters passed: %s\" % str(options))\n",
    "    \n",
    "    recMovies = []\n",
    "    # moviesIDs the user already watched\n",
    "    alreadyWatched = train.loc[train.user_id==userID].item_id.as_matrix()\n",
    "    alreadyWatched -= 1\n",
    "    \n",
    "    # if trained model was passed in\n",
    "    if model:\n",
    "        pairs = [ np.array([userID] * NumItems),\n",
    "                 np.array([itemID for itemID in range(1, NumItems+1)]) ]\n",
    "        pred = model.predict(pairs).flatten()\n",
    "        pred[alreadyWatched] = 0\n",
    "\n",
    "        # In evaluation mode, the pred is rounded up and\n",
    "        # get movies with scores 4 or above \n",
    "        if k is None:\n",
    "#             pred = np.round(pred)\n",
    "            rec_idx = np.argwhere(pred >= 4).flatten()\n",
    "\n",
    "        # In recommendation mode, we sort the predicted scores to get\n",
    "        # the best k number of movies from the list\n",
    "        else:\n",
    "            rec_idx = np.argsort(pred, axis=0)[::-1].flatten()\n",
    "            rec_idx = rec_idx[:k]\n",
    "            \n",
    "    # if similarity matrix was passed in, use cosine similarity\n",
    "    elif similarity is not None:\n",
    "\n",
    "        # if trainDf is None, raise error\n",
    "        if trainDf is None:\n",
    "            raise BaseException(\"Invalid data types passed\")\n",
    "        \n",
    "        # if prediction matrix is None, calculate it\n",
    "        if predictionMatrix is None:\n",
    "            predictionMatrix = predictRatings(trainDf, similarity)\n",
    "         \n",
    "        pred = predictionMatrix[:, userID-1]\n",
    "        \n",
    "        if k is None:\n",
    "#             pred = np.round(pred)\n",
    "            rec_idx = np.argwhere(pred >= 4).flatten()\n",
    "\n",
    "        else:\n",
    "            rec_idx = np.argsort(pred, axis=0)[::-1].flatten()\n",
    "            rec_idx = rec_idx[:k]\n",
    "    \n",
    "    # Get the recommended movies in the predictions list\n",
    "    for i in rec_idx:\n",
    "        if i in alreadyWatched:\n",
    "            print(\"The movie is already watched\")\n",
    "            return\n",
    "        if pred[i] < 4:\n",
    "            print(\"It is below 4\")\n",
    "            return\n",
    "        recMovies.append(FindID[i])\n",
    "\n",
    "    return recMovies\n",
    "\n",
    "def usersBestMovies(dataDf, userID):\n",
    "    '''\n",
    "    Find the best rated movies for the user\n",
    "    '''\n",
    "    # if the userID is not found in the data, print error message\n",
    "    if len(dataDf.loc[dataDf['user_id'] == userID]) == 0:\n",
    "        print(\"'User_ID {}' is not in our database!\".format(userID))\n",
    "        return\n",
    "    \n",
    "    # Return all the movies which were rated 4 or above by the user\n",
    "#     maxrating = dataDf.loc[dataDf['user_id']==userID].rating.max()\n",
    "    bestMovieIDs = dataDf.loc[(dataDf['user_id']==userID) &\n",
    "                            (dataDf['rating'] >= 4)].item_id\n",
    "    \n",
    "    # Store the best movies\n",
    "    bestMovies = []\n",
    "    for movieID in bestMovieIDs:\n",
    "        bestMovies.append(FindID[movieID-1])\n",
    "        \n",
    "    return bestMovies"
   ]
  },
  {
   "cell_type": "code",
   "execution_count": 9,
   "metadata": {
    "collapsed": true
   },
   "outputs": [],
   "source": [
    "dataMatrix = buildItemUserMatrix(DataDf)\n",
    "similarity = cosine_similarity(dataMatrix)\n",
    "trainMatrix = buildItemUserMatrix(train)\n",
    "testMatrix = buildItemUserMatrix(test)\n",
    "pred_Matrix = predictRatings(train, trainMatrix, similarity)"
   ]
  },
  {
   "cell_type": "code",
   "execution_count": 10,
   "metadata": {
    "collapsed": true
   },
   "outputs": [],
   "source": [
    "# add predicted scores in the test dataframe\n",
    "for ind, userID, itemID, rating in test.itertuples():\n",
    "    test.loc[ind, 'pred_cosSim'] = np.round(pred_Matrix[itemID-1, userID-1]).astype(np.int8)"
   ]
  },
  {
   "cell_type": "code",
   "execution_count": 11,
   "metadata": {},
   "outputs": [
    {
     "name": "stdout",
     "output_type": "stream",
     "text": [
      "Mean Square Error 1.09\n"
     ]
    }
   ],
   "source": [
    "mse_similarity = mean_squared_error(test.rating, test.pred_cosSim)\n",
    "print(\"Mean Square Error {0:.2f}\".format(mse_similarity))"
   ]
  },
  {
   "cell_type": "markdown",
   "metadata": {},
   "source": [
    "### Matrix Factorization Using Keras"
   ]
  },
  {
   "cell_type": "code",
   "execution_count": 12,
   "metadata": {
    "collapsed": true
   },
   "outputs": [],
   "source": [
    "def plot_loss(hist):\n",
    "    # Plot loss history\n",
    "    train_loss, val_loss = hist.history['loss'], hist.history['val_loss']\n",
    "    plt.plot(train_loss)\n",
    "    plt.plot(val_loss)\n",
    "    plt.legend(['Train loss', 'Val loss'])\n",
    "    plt.xlabel('Epochs')\n",
    "    plt.ylabel('MSE')\n",
    "    plt.show()\n",
    "    \n",
    "def eval_model(model, weights_path, testdata):\n",
    "    # load the best model's parameters\n",
    "    model.load_weights(weights_path)\n",
    "    # predict the ratings\n",
    "    y_pred = model.predict([testdata.user_id, testdata.item_id])\n",
    "    mse = mean_squared_error(testdata.rating, np.round(y_pred))\n",
    "\n",
    "    # Print out the evaluation result\n",
    "    print(\"Mean Square Error for test data {0:.2f}\".format(mse))\n",
    "    \n",
    "    return mse"
   ]
  },
  {
   "cell_type": "code",
   "execution_count": 13,
   "metadata": {
    "collapsed": true
   },
   "outputs": [],
   "source": [
    "class recommender_model(object):\n",
    "    def __init__(self):\n",
    "        self.params = {}\n",
    "        self.params['num_latent_item'] = 5\n",
    "        self.params['num_latent_user'] = 3\n",
    "        self.params['dropout_rate'] = 0.2\n",
    "            \n",
    "    def set_params(self, params):\n",
    "        self.params['num_latent_item'] = params['num_latent_item']\n",
    "        self.params['num_latent_user'] = params['num_latent_user']\n",
    "        self.params['dropout_rate'] = params['dropout_rate']\n",
    "        \n",
    "    def nn_model(self):\n",
    "        # Define movies (items) matrix\n",
    "        num_latent_item = self.params['num_latent_item']\n",
    "        num_latent_user = self.params['num_latent_user']\n",
    "        dropout_rate = self.params['dropout_rate']\n",
    "        \n",
    "        movie_input = Input(shape=[1], name='Movie')\n",
    "        movie_embedding = Embedding(NumItems + 1, num_latent_item,\n",
    "                           name='Movie-Embedding')(movie_input)\n",
    "        movie_vec = Flatten(name='FlattenMovies')(movie_embedding)\n",
    "\n",
    "        # Define users matrix\n",
    "        user_input = Input(shape=[1], name='User')\n",
    "        user_embedding = Embedding(NumUsers+1, num_latent_user,\n",
    "                           name='User-Embedding')(user_input)\n",
    "        user_vec = Flatten(name='FlattenUsers')(user_embedding)\n",
    "        \n",
    "        # Build model\n",
    "        # Merge the two vectors\n",
    "        all_input = merge([user_vec, movie_vec], mode='concat', name='Concat_inputs')\n",
    "        \n",
    "        # First FC layer\n",
    "        z1 = Dense(64, name='FC-1')(all_input)\n",
    "#         z1 = BatchNormalization()(z1)\n",
    "        h1 = Activation('relu', name='FC-1-activation')(z1)\n",
    "        h1 = Dropout(dropout_rate, name='Dropout-1')(h1)\n",
    "        \n",
    "        # Second FC layer\n",
    "        z2 = Dense(32, name='FC-2')(h1)\n",
    "#         z2 = BatchNormalization()(z2)\n",
    "        h2 = Activation('relu', name='FC-2-activation')(z2)\n",
    "        h2 = Dropout(dropout_rate, name='Dropout-2')(h2)\n",
    "        \n",
    "        output = Dense(1, activation='relu', name='Output-layer')(h1)\n",
    "        \n",
    "        optim = optimizers.Adam(lr=0.005)\n",
    "        model = Model([user_input, movie_input], output)\n",
    "        model.compile(optimizer=optim, loss='mse')\n",
    "        \n",
    "        return model\n",
    "    \n",
    "    def factorization_model(self):\n",
    "        # Define movies (items) matrix\n",
    "        num_latent_item = self.params['num_latent_item']\n",
    "        num_latent_user = self.params['num_latent_user']\n",
    "        dropout_rate = self.params['dropout_rate']\n",
    "        \n",
    "        movie_input = Input(shape=[1], name='Movie')\n",
    "        movie_embedding = Embedding(NumItems + 1, num_latent_item,\n",
    "                                                 name='Movie-Embedding')(movie_input)\n",
    "        movie_vec = Flatten(name='FlattenMovies')(movie_embedding)\n",
    "\n",
    "        # Define users matrix\n",
    "        user_input = Input(shape=[1], name='User')\n",
    "        user_embedding = Embedding(NumUsers+1, num_latent_user,\n",
    "                                                name='User-Embedding')(user_input)\n",
    "        user_vec = Flatten(name='FlattenUsers')(user_embedding)\n",
    "        \n",
    "#         Build model\n",
    "        output = dot([user_vec, movie_vec], 1)\n",
    "        optim = optimizers.Adam(lr=0.005)\n",
    "        model = Model([user_input, movie_input], output)\n",
    "        model.compile(optimizer=optim, loss='mse')\n",
    "        \n",
    "        return model"
   ]
  },
  {
   "cell_type": "code",
   "execution_count": 14,
   "metadata": {},
   "outputs": [
    {
     "name": "stdout",
     "output_type": "stream",
     "text": [
      "__________________________________________________________________________________________________\n",
      "Layer (type)                    Output Shape         Param #     Connected to                     \n",
      "==================================================================================================\n",
      "User (InputLayer)               (None, 1)            0                                            \n",
      "__________________________________________________________________________________________________\n",
      "Movie (InputLayer)              (None, 1)            0                                            \n",
      "__________________________________________________________________________________________________\n",
      "User-Embedding (Embedding)      (None, 1, 3)         2832        User[0][0]                       \n",
      "__________________________________________________________________________________________________\n",
      "Movie-Embedding (Embedding)     (None, 1, 3)         5049        Movie[0][0]                      \n",
      "__________________________________________________________________________________________________\n",
      "FlattenUsers (Flatten)          (None, 3)            0           User-Embedding[0][0]             \n",
      "__________________________________________________________________________________________________\n",
      "FlattenMovies (Flatten)         (None, 3)            0           Movie-Embedding[0][0]            \n",
      "__________________________________________________________________________________________________\n",
      "Concat_inputs (Merge)           (None, 6)            0           FlattenUsers[0][0]               \n",
      "                                                                 FlattenMovies[0][0]              \n",
      "__________________________________________________________________________________________________\n",
      "FC-1 (Dense)                    (None, 64)           448         Concat_inputs[0][0]              \n",
      "__________________________________________________________________________________________________\n",
      "FC-1-activation (Activation)    (None, 64)           0           FC-1[0][0]                       \n",
      "__________________________________________________________________________________________________\n",
      "Dropout-1 (Dropout)             (None, 64)           0           FC-1-activation[0][0]            \n",
      "__________________________________________________________________________________________________\n",
      "Output-layer (Dense)            (None, 1)            65          Dropout-1[0][0]                  \n",
      "==================================================================================================\n",
      "Total params: 8,394\n",
      "Trainable params: 8,394\n",
      "Non-trainable params: 0\n",
      "__________________________________________________________________________________________________\n"
     ]
    },
    {
     "name": "stderr",
     "output_type": "stream",
     "text": [
      "/Users/Joonil/anaconda/envs/pytorch/lib/python3.6/site-packages/ipykernel/__main__.py:32: UserWarning: The `merge` function is deprecated and will be removed after 08/2017. Use instead layers from `keras.layers.merge`, e.g. `add`, `concatenate`, etc.\n",
      "/Users/Joonil/anaconda/envs/pytorch/lib/python3.6/site-packages/keras/legacy/layers.py:464: UserWarning: The `Merge` layer is deprecated and will be removed after 08/2017. Use instead layers from `keras.layers.merge`, e.g. `add`, `concatenate`, etc.\n",
      "  name=name)\n"
     ]
    }
   ],
   "source": [
    "params = {'num_latent_item': 3, 'num_latent_user': 3, 'dropout_rate': 0.2}\n",
    "recom = recommender_model()\n",
    "recom.set_params(params)\n",
    "model_nn = recom.nn_model()\n",
    "model_nn.summary()"
   ]
  },
  {
   "cell_type": "code",
   "execution_count": 15,
   "metadata": {
    "collapsed": true
   },
   "outputs": [],
   "source": [
    "import math\n",
    "# learning rate schedule\n",
    "def step_decay(epoch):\n",
    "    initial_lrate = 0.001\n",
    "    drop = 0.5\n",
    "    epochs_drop = 10.0\n",
    "    lr = initial_lrate * math.pow(drop, math.floor((1+epoch)/epochs_drop))\n",
    "    return lr"
   ]
  },
  {
   "cell_type": "code",
   "execution_count": 16,
   "metadata": {
    "scrolled": false
   },
   "outputs": [
    {
     "name": "stdout",
     "output_type": "stream",
     "text": [
      "Train on 68000 samples, validate on 12000 samples\n",
      "Epoch 1/20\n",
      " - 2s - loss: 2.1855 - val_loss: 0.9082\n",
      "Epoch 2/20\n",
      " - 2s - loss: 0.9950 - val_loss: 0.8924\n",
      "Epoch 3/20\n",
      " - 2s - loss: 0.9731 - val_loss: 0.8903\n",
      "Epoch 4/20\n",
      " - 2s - loss: 0.9607 - val_loss: 0.8946\n",
      "Epoch 5/20\n",
      " - 2s - loss: 0.9475 - val_loss: 0.8937\n",
      "Epoch 6/20\n",
      " - 2s - loss: 0.9389 - val_loss: 0.8924\n",
      "Epoch 7/20\n",
      " - 2s - loss: 0.9239 - val_loss: 0.8878\n",
      "Epoch 8/20\n",
      " - 2s - loss: 0.9141 - val_loss: 0.8794\n",
      "Epoch 9/20\n",
      " - 2s - loss: 0.8957 - val_loss: 0.8739\n",
      "Epoch 10/20\n",
      " - 2s - loss: 0.8711 - val_loss: 0.8651\n",
      "Epoch 11/20\n",
      " - 2s - loss: 0.8662 - val_loss: 0.8656\n",
      "Epoch 12/20\n",
      " - 2s - loss: 0.8574 - val_loss: 0.8669\n",
      "Epoch 13/20\n",
      " - 2s - loss: 0.8517 - val_loss: 0.8614\n",
      "Epoch 14/20\n",
      " - 2s - loss: 0.8487 - val_loss: 0.8620\n",
      "Epoch 15/20\n",
      " - 2s - loss: 0.8462 - val_loss: 0.8637\n",
      "Epoch 16/20\n",
      " - 2s - loss: 0.8422 - val_loss: 0.8639\n",
      "Epoch 17/20\n",
      " - 2s - loss: 0.8373 - val_loss: 0.8617\n",
      "Epoch 18/20\n",
      " - 2s - loss: 0.8303 - val_loss: 0.8611\n",
      "Epoch 19/20\n",
      " - 2s - loss: 0.8260 - val_loss: 0.8602\n",
      "Epoch 20/20\n",
      " - 2s - loss: 0.8135 - val_loss: 0.8619\n"
     ]
    }
   ],
   "source": [
    "checkpointer = ModelCheckpoint(filepath=\"nn_weights.hdf5\", verbose=0, save_best_only=True)\n",
    "lr = LearningRateScheduler(step_decay)\n",
    "\n",
    "history = model_nn.fit([train.user_id, train.item_id], train.rating,\n",
    "                    batch_size=64, epochs=20, validation_split=0.15,\n",
    "                    shuffle=True, verbose=2, callbacks=[checkpointer, lr])"
   ]
  },
  {
   "cell_type": "code",
   "execution_count": 17,
   "metadata": {},
   "outputs": [
    {
     "data": {
      "image/png": "[encoded data removed]",
      "text/plain": [
       "<Figure size 432x288 with 1 Axes>"
      ]
     },
     "metadata": {},
     "output_type": "display_data"
    }
   ],
   "source": [
    "plot_loss(history)"
   ]
  },
  {
   "cell_type": "code",
   "execution_count": 18,
   "metadata": {},
   "outputs": [
    {
     "name": "stdout",
     "output_type": "stream",
     "text": [
      "Mean Square Error for test data 0.93\n"
     ]
    }
   ],
   "source": [
    "mse_nn = eval_model(model_nn, \"nn_weights.hdf5\", test)"
   ]
  },
  {
   "cell_type": "code",
   "execution_count": 19,
   "metadata": {
    "scrolled": false
   },
   "outputs": [
    {
     "name": "stdout",
     "output_type": "stream",
     "text": [
      "__________________________________________________________________________________________________\n",
      "Layer (type)                    Output Shape         Param #     Connected to                     \n",
      "==================================================================================================\n",
      "User (InputLayer)               (None, 1)            0                                            \n",
      "__________________________________________________________________________________________________\n",
      "Movie (InputLayer)              (None, 1)            0                                            \n",
      "__________________________________________________________________________________________________\n",
      "User-Embedding (Embedding)      (None, 1, 3)         2832        User[0][0]                       \n",
      "__________________________________________________________________________________________________\n",
      "Movie-Embedding (Embedding)     (None, 1, 3)         5049        Movie[0][0]                      \n",
      "__________________________________________________________________________________________________\n",
      "FlattenUsers (Flatten)          (None, 3)            0           User-Embedding[0][0]             \n",
      "__________________________________________________________________________________________________\n",
      "FlattenMovies (Flatten)         (None, 3)            0           Movie-Embedding[0][0]            \n",
      "__________________________________________________________________________________________________\n",
      "dot_1 (Dot)                     (None, 1)            0           FlattenUsers[0][0]               \n",
      "                                                                 FlattenMovies[0][0]              \n",
      "==================================================================================================\n",
      "Total params: 7,881\n",
      "Trainable params: 7,881\n",
      "Non-trainable params: 0\n",
      "__________________________________________________________________________________________________\n",
      "Train on 68000 samples, validate on 12000 samples\n",
      "Epoch 1/40\n",
      " - 2s - loss: 6.5755 - val_loss: 1.5227\n",
      "Epoch 2/40\n",
      " - 1s - loss: 1.1541 - val_loss: 1.0328\n",
      "Epoch 3/40\n",
      " - 1s - loss: 0.9630 - val_loss: 0.9726\n",
      "Epoch 4/40\n",
      " - 1s - loss: 0.9299 - val_loss: 0.9509\n",
      "Epoch 5/40\n",
      " - 1s - loss: 0.9190 - val_loss: 0.9429\n",
      "Epoch 6/40\n",
      " - 1s - loss: 0.9094 - val_loss: 0.9425\n",
      "Epoch 7/40\n",
      " - 1s - loss: 0.9034 - val_loss: 0.9354\n",
      "Epoch 8/40\n",
      " - 1s - loss: 0.8961 - val_loss: 0.9296\n",
      "Epoch 9/40\n",
      " - 1s - loss: 0.8848 - val_loss: 0.9228\n",
      "Epoch 10/40\n",
      " - 1s - loss: 0.8698 - val_loss: 0.9284\n",
      "Epoch 11/40\n",
      " - 1s - loss: 0.8541 - val_loss: 0.9246\n",
      "Epoch 12/40\n",
      " - 1s - loss: 0.8392 - val_loss: 0.9155\n",
      "Epoch 13/40\n",
      " - 1s - loss: 0.8258 - val_loss: 0.9158\n",
      "Epoch 14/40\n",
      " - 1s - loss: 0.8148 - val_loss: 0.9164\n",
      "Epoch 15/40\n",
      " - 1s - loss: 0.8053 - val_loss: 0.9202\n",
      "Epoch 16/40\n",
      " - 1s - loss: 0.7968 - val_loss: 0.9208\n",
      "Epoch 17/40\n",
      " - 1s - loss: 0.7914 - val_loss: 0.9237\n",
      "Epoch 18/40\n",
      " - 1s - loss: 0.7861 - val_loss: 0.9241\n",
      "Epoch 19/40\n",
      " - 1s - loss: 0.7814 - val_loss: 0.9293\n",
      "Epoch 20/40\n",
      " - 1s - loss: 0.7770 - val_loss: 0.9264\n",
      "Epoch 21/40\n",
      " - 1s - loss: 0.7741 - val_loss: 0.9198\n",
      "Epoch 22/40\n",
      " - 1s - loss: 0.7709 - val_loss: 0.9291\n",
      "Epoch 23/40\n",
      " - 1s - loss: 0.7681 - val_loss: 0.9327\n",
      "Epoch 24/40\n",
      " - 2s - loss: 0.7655 - val_loss: 0.9278\n",
      "Epoch 25/40\n",
      " - 1s - loss: 0.7634 - val_loss: 0.9343\n",
      "Epoch 26/40\n",
      " - 2s - loss: 0.7640 - val_loss: 0.9362\n",
      "Epoch 27/40\n",
      " - 2s - loss: 0.7616 - val_loss: 0.9255\n",
      "Epoch 28/40\n",
      " - 2s - loss: 0.7606 - val_loss: 0.9374\n",
      "Epoch 29/40\n",
      " - 1s - loss: 0.7597 - val_loss: 0.9304\n",
      "Epoch 30/40\n",
      " - 1s - loss: 0.7598 - val_loss: 0.9301\n",
      "Epoch 31/40\n",
      " - 1s - loss: 0.7580 - val_loss: 0.9411\n",
      "Epoch 32/40\n",
      " - 1s - loss: 0.7568 - val_loss: 0.9376\n",
      "Epoch 33/40\n",
      " - 2s - loss: 0.7568 - val_loss: 0.9371\n",
      "Epoch 34/40\n",
      " - 2s - loss: 0.7561 - val_loss: 0.9378\n",
      "Epoch 35/40\n",
      " - 2s - loss: 0.7554 - val_loss: 0.9397\n",
      "Epoch 36/40\n",
      " - 1s - loss: 0.7546 - val_loss: 0.9405\n",
      "Epoch 37/40\n",
      " - 1s - loss: 0.7550 - val_loss: 0.9477\n",
      "Epoch 38/40\n",
      " - 1s - loss: 0.7530 - val_loss: 0.9433\n",
      "Epoch 39/40\n",
      " - 1s - loss: 0.7530 - val_loss: 0.9477\n",
      "Epoch 40/40\n",
      " - 2s - loss: 0.7536 - val_loss: 0.9487\n"
     ]
    },
    {
     "data": {
      "image/png": "[encoded data removed]",
      "text/plain": [
       "<Figure size 432x288 with 1 Axes>"
      ]
     },
     "metadata": {},
     "output_type": "display_data"
    },
    {
     "name": "stdout",
     "output_type": "stream",
     "text": [
      "Mean Square Error for test data 0.98\n"
     ]
    }
   ],
   "source": [
    "# Build Factorization Model \n",
    "model_factor = recom.factorization_model()\n",
    "model_factor.summary()\n",
    "\n",
    "checkpointer = ModelCheckpoint(filepath=\"factor_weights.hdf5\", verbose=0, save_best_only=True)\n",
    "\n",
    "history = model_factor.fit([train.user_id, train.item_id], train.rating,\n",
    "                    batch_size=64, epochs=40, validation_split=0.15,\n",
    "                    shuffle=True, verbose=2, callbacks=[checkpointer])\n",
    "plot_loss(history)\n",
    "mse_factor = eval_model(model_factor, \"factor_weights.hdf5\", test)"
   ]
  },
  {
   "cell_type": "markdown",
   "metadata": {},
   "source": [
    "## Plot the errors for different models"
   ]
  },
  {
   "cell_type": "code",
   "execution_count": 20,
   "metadata": {},
   "outputs": [
    {
     "data": {
      "image/png": "[encoded data removed]",
      "text/plain": [
       "<Figure size 576x432 with 1 Axes>"
      ]
     },
     "metadata": {},
     "output_type": "display_data"
    }
   ],
   "source": [
    "N = 3\n",
    "errors = (mse_similarity, mse_factor, mse_nn)\n",
    "\n",
    "ind = np.arange(N)  # the x locations for the groups\n",
    "width = 0.5        # the width of the bars\n",
    "\n",
    "fig, ax = plt.subplots()\n",
    "fig.set_size_inches((8,6))\n",
    "rects = ax.bar(ind, errors, width)\n",
    "\n",
    "errors_rounded = (mse_similarity, mse_factor, mse_nn)\n",
    "\n",
    "\n",
    "# add some text for labels, title and axes ticks\n",
    "ax.set_ylabel('RMSE')\n",
    "ax.set_title('RMSE by 3 Different Predictive Models')\n",
    "ax.set_xticks(ind)\n",
    "ax.set_xticklabels(('Cos Similarity', 'Factorization', 'Neural Network'))\n",
    "plt.show()"
   ]
  },
  {
   "cell_type": "markdown",
   "metadata": {},
   "source": [
    "## Evaluate the models based on precision and recall\n",
    "## (updating..)"
   ]
  },
  {
   "cell_type": "code",
   "execution_count": 21,
   "metadata": {
    "collapsed": true,
    "scrolled": false
   },
   "outputs": [],
   "source": [
    "# trainBest = usersBestMovies(train, 1)\n",
    "# testBest = usersBestMovies(test, 1)\n",
    "# predBest_CosSim = recommendMovies(1, train, similarity=similarity, prediction_matrix=pred_Matrix)\n",
    "# predBest_Factor = recommendMovies(1, train, model=model_Factorization)\n",
    "# predBest_Factor_nonneg = recommendMovies(1, train, model=model_Factorization_nonneg)\n",
    "# predBest_NN = recommendMovies(1, train, model=model_NN)"
   ]
  },
  {
   "cell_type": "markdown",
   "metadata": {},
   "source": [
    "#### testBest"
   ]
  },
  {
   "cell_type": "code",
   "execution_count": 22,
   "metadata": {
    "collapsed": true
   },
   "outputs": [],
   "source": [
    "# def recall(test, pred):\n",
    "#     pred = set(pred)\n",
    "#     cnt = 0\n",
    "#     for movie in test:\n",
    "#         if movie in pred:\n",
    "#             cnt += 1\n",
    "#     return cnt / len(test)\n",
    "\n",
    "# def precision(test, pred):\n",
    "#     pred = set(pred)\n",
    "#     cnt = 0\n",
    "#     for movie in test:\n",
    "#         if movie in pred:\n",
    "#             cnt += 1\n",
    "#     return cnt / len(pred)\n",
    "\n",
    "# def precision_at_k(test, pred, k):\n",
    "#     pred = set(pred[:k])\n",
    "#     cnt = 0\n",
    "#     for movie in test:\n",
    "#         if movie in pred:\n",
    "#             cnt += 1\n",
    "#     return cnt / len(pred)"
   ]
  },
  {
   "cell_type": "code",
   "execution_count": 23,
   "metadata": {
    "collapsed": true
   },
   "outputs": [],
   "source": [
    "# print(\"Precision for Cosine Similarity Method: {0:.2f}\"\n",
    "#       .format(precision(testBest, predBest_CosSim)))\n",
    "# print(\"Precision for Matrix Factorization: {0:.2f}\"\n",
    "#       .format(precision(testBest, predBest_Factor)))\n",
    "# print(\"Precision for Non-negative Matrix Factorization: {0:.2f}\"\n",
    "#       .format(precision(testBest, predBest_Factor_nonneg)))\n",
    "# print(\"Precision for FC Neural Network: {0:.2f}\"\n",
    "#       .format(precision(testBest, predBest_NN)))"
   ]
  },
  {
   "cell_type": "code",
   "execution_count": 24,
   "metadata": {
    "collapsed": true
   },
   "outputs": [],
   "source": [
    "# print(\"Recall for Cosine Similarity Method: {0:.2f}\"\n",
    "#       .format(recall(testBest, predBest_CosSim)))\n",
    "# print(\"Recall for Matrix Factorization: {0:.2f}\"\n",
    "#       .format(recall(testBest, predBest_Factor)))\n",
    "# print(\"Recall for Non-negative Matrix Factorization: {0:.2f}\"\n",
    "#       .format(recall(testBest, predBest_Factor_nonneg)))\n",
    "# print(\"Recall for FC Neural Network: {0:.2f}\"\n",
    "#       .format(recall(testBest, predBest_NN)))"
   ]
  }
 ],
 "metadata": {
  "kernelspec": {
   "display_name": "Python [conda env:pytorch]",
   "language": "python",
   "name": "conda-env-pytorch-py"
  },
  "language_info": {
   "codemirror_mode": {
    "name": "ipython",
    "version": 3
   },
   "file_extension": ".py",
   "mimetype": "text/x-python",
   "name": "python",
   "nbconvert_exporter": "python",
   "pygments_lexer": "ipython3",
   "version": "3.6.3"
  },
  "varInspector": {
   "cols": {
    "lenName": 16,
    "lenType": 16,
    "lenVar": 40
   },
   "kernels_config": {
    "python": {
     "delete_cmd_postfix": "",
     "delete_cmd_prefix": "del ",
     "library": "var_list.py",
     "varRefreshCmd": "print(var_dic_list())"
    },
    "r": {
     "delete_cmd_postfix": ") ",
     "delete_cmd_prefix": "rm(",
     "library": "var_list.r",
     "varRefreshCmd": "cat(var_dic_list()) "
    }
   },
   "types_to_exclude": [
    "module",
    "function",
    "builtin_function_or_method",
    "instance",
    "_Feature"
   ],
   "window_display": false
  }
 },
 "nbformat": 4,
 "nbformat_minor": 2
}
